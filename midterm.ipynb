{
 "cells": [
  {
   "cell_type": "markdown",
   "metadata": {},
   "source": [
    "# Midterm mini-project\n",
    "\n",
    "**Due Friday, May 13.**\n",
    "\n",
    "*Enter your name here*\n",
    "\n",
    "\n",
    "### Checklist\n",
    "\n",
    "Before submitting, make sure that your report\n",
    "\n",
    "- Introduces a computational topic or method  \n",
    "- Provides background: what kind of problem is this meant to solve?  \n",
    "- Explains the topic/method: how does it work (in words and possibly in equations, as appropriate)?  \n",
    "- Gives an example application: if the project is focused on a particular type of problem, where is this problem encountered? If it is focused on a method, in what situations is the method useful?  \n",
    "- Is $\\approx 500$ words in length (a little less is fine as long as you hit the main points, and more is also okay)  \n",
    "\n",
    "Optionally, you can also include a worked example in Python. \n",
    "\n",
    "And as always, make sure to\n",
    "\n",
    "- Fill in your name above  \n",
    "- Cite any resources that you used while working on this assignment"
   ]
  },
  {
   "cell_type": "markdown",
   "metadata": {},
   "source": [
    "## Your title here\n",
    "\n",
    "And some text. Fill this in to complete your report. Feel free to add code and Markdown cells as needed. As a reminder, here's a [guide](https://github.com/adam-p/markdown-here/wiki/Markdown-Cheatsheet) to some common Markdown notation that you can use to format your report."
   ]
  }
 ],
 "metadata": {
  "kernelspec": {
   "display_name": "Python 3 (ipykernel)",
   "language": "python",
   "name": "python3"
  },
  "language_info": {
   "codemirror_mode": {
    "name": "ipython",
    "version": 3
   },
   "file_extension": ".py",
   "mimetype": "text/x-python",
   "name": "python",
   "nbconvert_exporter": "python",
   "pygments_lexer": "ipython3",
   "version": "3.9.12"
  },
  "toc": {
   "base_numbering": 1,
   "nav_menu": {},
   "number_sections": true,
   "sideBar": true,
   "skip_h1_title": false,
   "title_cell": "Table of Contents",
   "title_sidebar": "Contents",
   "toc_cell": false,
   "toc_position": {},
   "toc_section_display": true,
   "toc_window_display": false
  }
 },
 "nbformat": 4,
 "nbformat_minor": 2
}
