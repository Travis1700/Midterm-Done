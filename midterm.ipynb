{
 "cells": [
  {
   "cell_type": "markdown",
   "metadata": {},
   "source": [
    "# Midterm mini-project\n",
    "\n",
    "**Due Friday, May 13.**\n",
    "\n",
    "Travis Crumpton\n",
    "\n",
    "\n",
    "### Checklist\n",
    "\n",
    "Before submitting, make sure that your report\n",
    "\n",
    "- Introduces a computational topic or method  \n",
    "- Provides background: what kind of problem is this meant to solve?  \n",
    "- Explains the topic/method: how does it work (in words and possibly in equations, as appropriate)?  \n",
    "- Gives an example application: if the project is focused on a particular type of problem, where is this problem encountered? If it is focused on a method, in what situations is the method useful?  \n",
    "- Is $\\approx 500$ words in length (a little less is fine as long as you hit the main points, and more is also okay)  \n",
    "\n",
    "Optionally, you can also include a worked example in Python. \n",
    "\n",
    "And as always, make sure to\n",
    "\n",
    "- Fill in your name above  \n",
    "- Cite any resources that you used while working on this assignment"
   ]
  },
  {
   "cell_type": "markdown",
   "metadata": {},
   "source": [
    "## Compartmental methods in Epidemiology\n",
    "\n",
    "Compartmental methods in Epidemiology are the most common methods used in the modeling and simulation of the spread of infectious diseases. These models are used for the purpose of understanding trends in disease spread so that predictions can be made to divert the rate of spread to more manageable value. The idea of this method is to use sets of differential equations to describe the rates of change of the population between the different compartments used in the model. The model that I will be using will be a combination of two models known as the SIRV and SIRD model. In what I will now call the SIRVD model, the first compartment where everyone starts in is the susceptible compartment. This compartment will be the most complicated to simulate because there are many different measures that can be taken by people to minimize infection and spread. Some important aspects to think about is how the population views hygiene and cleanliness, how accepting the population is when vaccines begin to roll out, how this population practices social distancing, etc. Each term within this compartment will govern some aspect of these issues. Some of these terms may even influence some others so there will be an importance on finding accurate data to model these terms on. The second compartment within this model is the infected compartment. Within this scenario the infectious individuals will have a time frame of unknown infection where they will continue about their lives normally. It is not until they begin to feel symptoms will they stop spreading. For simplicities sake, once these infected individuals pass the unknown infection time, spread to new unaffected susceptible people will become very small. This is analogous to infected individuals either not wanting to infect others or they are too sick to go out. Following this compartment, we have the recovered compartment. In other models within epidemiological compartmental methods, the recovered compartment includes the deceased compartment which I have chosen to separate for this model for organizational purposes. This section will consider the recovery rate of the infected compartment as well as the bodies response to the infection. This compartment will require some randomness that will be used in determining whether the individual has fully recovered or will be sent into the deceased compartment. Outside of this random chance, the infected population will take roughly two weeks to recover from the infection and will be granted a very low chance of reinfection within a month of recovery. The deceased compartment will only depend on the number of individuals dying from the infection and will be relatively simple to simulate. This leads into the final compartment; the vaccinated compartment. This model will assume that a vaccine for the pathogen will be developed at 2.5 years. After this point the vaccinated population will increase, however, this compartment will try to consider vaccine hesitancy and breakthrough cases. Much of this project was inspired by the events that have transpired over the last couple years during the covid pandemic and the aim of this project is to reproduce behavior close to what we may see with covid cases."
   ]
  }
 ],
 "metadata": {
  "kernelspec": {
   "display_name": "Python 3 (ipykernel)",
   "language": "python",
   "name": "python3"
  },
  "language_info": {
   "codemirror_mode": {
    "name": "ipython",
    "version": 3
   },
   "file_extension": ".py",
   "mimetype": "text/x-python",
   "name": "python",
   "nbconvert_exporter": "python",
   "pygments_lexer": "ipython3",
   "version": "3.9.12"
  },
  "toc": {
   "base_numbering": 1,
   "nav_menu": {},
   "number_sections": true,
   "sideBar": true,
   "skip_h1_title": false,
   "title_cell": "Table of Contents",
   "title_sidebar": "Contents",
   "toc_cell": false,
   "toc_position": {},
   "toc_section_display": true,
   "toc_window_display": false
  }
 },
 "nbformat": 4,
 "nbformat_minor": 2
}
